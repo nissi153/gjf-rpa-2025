{
 "cells": [
  {
   "cell_type": "markdown",
   "id": "3a74784b",
   "metadata": {},
   "source": [
    "#### 연산자"
   ]
  },
  {
   "cell_type": "code",
   "execution_count": 2,
   "id": "b8a44ccf",
   "metadata": {},
   "outputs": [
    {
     "name": "stdout",
     "output_type": "stream",
     "text": [
      "16.0\n"
     ]
    }
   ],
   "source": [
    "# 연산자 우선순위\n",
    "print( (10 - 2) * 4 / 2 )"
   ]
  },
  {
   "cell_type": "code",
   "execution_count": 6,
   "id": "8d2eb53e",
   "metadata": {},
   "outputs": [
    {
     "name": "stdout",
     "output_type": "stream",
     "text": [
      "1000\n"
     ]
    },
    {
     "data": {
      "text/plain": [
       "1000"
      ]
     },
     "execution_count": 6,
     "metadata": {},
     "output_type": "execute_result"
    }
   ],
   "source": [
    "# 1. **        거듭제곱 \n",
    "# 2. * / // %  곱셈, 나눗셈\n",
    "# 3. + -       덧셈, 뺄셈\n",
    "# 4. == != < > 비교연산자\n",
    "# 5. not       부정로직\n",
    "# 6. and       AND로직\n",
    "# 7. or        OR로직\n",
    "\n",
    "a, b = 10, 3\n",
    "print( a ** b ) # 10의 3승 = 10 * 10 * 10\n",
    "a ** b"
   ]
  },
  {
   "cell_type": "code",
   "execution_count": 7,
   "id": "97ceeaa4",
   "metadata": {},
   "outputs": [
    {
     "name": "stdout",
     "output_type": "stream",
     "text": [
      "False\n",
      "True\n",
      "True\n",
      "False\n",
      "False\n",
      "False\n",
      "True\n",
      "True\n"
     ]
    }
   ],
   "source": [
    "# 비교연산자 : 결과는 True/False로 나온다.\n",
    "a = 5\n",
    "b = 3\n",
    "print( a == b) # a와 b가 같은가?\n",
    "print( a != b) # a와 b가 같지 않은가?\n",
    "print( a > b) # a가 b보다 큰가? 왼쪽기준   초과\n",
    "print( a < b) # a가 b보다 작은가?          미만\n",
    "print( a <= b) # a가 b보다 같거나 작은가?  이하\n",
    "print( a < b or a == b )\n",
    "print( a >= b) # a가 b보다 같거나 큰가?    이상\n",
    "print( a > b or a == b )"
   ]
  },
  {
   "cell_type": "code",
   "execution_count": 9,
   "id": "5f21a88e",
   "metadata": {},
   "outputs": [
    {
     "name": "stdout",
     "output_type": "stream",
     "text": [
      "False\n",
      "True\n",
      "False\n"
     ]
    },
    {
     "data": {
      "text/plain": [
       "False"
      ]
     },
     "execution_count": 9,
     "metadata": {},
     "output_type": "execute_result"
    }
   ],
   "source": [
    "# 논리연산자 : 결과는 True/False로 나온다.\n",
    "c = True\n",
    "d = False\n",
    "print( not c )\n",
    "print( c or d )\n",
    "print( c and d )\n",
    "not c"
   ]
  }
 ],
 "metadata": {
  "kernelspec": {
   "display_name": "Python 3",
   "language": "python",
   "name": "python3"
  },
  "language_info": {
   "codemirror_mode": {
    "name": "ipython",
    "version": 3
   },
   "file_extension": ".py",
   "mimetype": "text/x-python",
   "name": "python",
   "nbconvert_exporter": "python",
   "pygments_lexer": "ipython3",
   "version": "3.10.10"
  }
 },
 "nbformat": 4,
 "nbformat_minor": 5
}
