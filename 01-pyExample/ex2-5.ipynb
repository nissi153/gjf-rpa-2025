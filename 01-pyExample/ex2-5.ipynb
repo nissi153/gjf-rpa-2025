{
 "cells": [
  {
   "cell_type": "markdown",
   "id": "8d0f6b8c",
   "metadata": {},
   "source": [
    "## 파이썬의 주요 데이터 타입\n",
    "\n",
    "### 1. 숫자 (Numbers)\n",
    "\n",
    "숫자 타입은 숫자 값을 표현하는 데 사용됩니다.\n",
    "\n",
    "- **int (정수)**: 소수점 이하가 없는 숫자입니다.\n",
    "    - 예시: `10`, `5`, `0`, `1000`"
   ]
  },
  {
   "cell_type": "code",
   "execution_count": 2,
   "id": "b74de6e3",
   "metadata": {},
   "outputs": [
    {
     "data": {
      "text/plain": [
       "10"
      ]
     },
     "execution_count": 2,
     "metadata": {},
     "output_type": "execute_result"
    }
   ],
   "source": [
    "a = 10\n",
    "a"
   ]
  },
  {
   "cell_type": "markdown",
   "id": "2cb154d1",
   "metadata": {},
   "source": [
    "\n",
    "- **float (부동 소수점)**: 소수점 이하가 있는 숫자입니다.\n",
    "    - 예시: `3.14`, `0.5`, `2.0`, `1.23e-4`"
   ]
  },
  {
   "cell_type": "code",
   "execution_count": 3,
   "id": "0952d3a6",
   "metadata": {},
   "outputs": [
    {
     "data": {
      "text/plain": [
       "3.14"
      ]
     },
     "execution_count": 3,
     "metadata": {},
     "output_type": "execute_result"
    }
   ],
   "source": [
    "d = 3.14\n",
    "d"
   ]
  },
  {
   "cell_type": "markdown",
   "id": "47bec44c",
   "metadata": {},
   "source": [
    "\n",
    "- **complex (복소수)**: 실수부와 허수부를 가지는 숫자입니다. `a + bj` 형태로 표현됩니다.\n",
    "    - 예시: `1 + 2j`, `3j`"
   ]
  }
 ],
 "metadata": {
  "kernelspec": {
   "display_name": "Python 3",
   "language": "python",
   "name": "python3"
  },
  "language_info": {
   "codemirror_mode": {
    "name": "ipython",
    "version": 3
   },
   "file_extension": ".py",
   "mimetype": "text/x-python",
   "name": "python",
   "nbconvert_exporter": "python",
   "pygments_lexer": "ipython3",
   "version": "3.10.10"
  }
 },
 "nbformat": 4,
 "nbformat_minor": 5
}
