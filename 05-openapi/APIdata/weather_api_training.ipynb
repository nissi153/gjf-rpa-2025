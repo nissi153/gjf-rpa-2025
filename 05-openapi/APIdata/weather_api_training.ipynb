{
 "cells": [
  {
   "cell_type": "code",
   "execution_count": 4,
   "metadata": {},
   "outputs": [
    {
     "name": "stdout",
     "output_type": "stream",
     "text": [
      "200\n"
     ]
    }
   ],
   "source": [
    "# Open API 호출\n",
    "import requests\n",
    "\n",
    "# 기상청 단기예보 API \n",
    "# \"기상청41_단기예보 조회서비스_오픈API활용가이드_241128.zip\" 내 워드 문서의 Call Back URL을 입력하세요. \n",
    "url = \"http://apis.data.go.kr/1360000/VilageFcstInfoService_2.0/getUltraSrtNcst\"\n",
    "\n",
    "# 요청 파라미터 \n",
    "params = {\n",
    "    \"serviceKey\": \"rvOQj8huEbPjOX95xOK2E8msgbvixjreVPODRAT7pbzficA1+D4jPoiMspnpmEAup9cIA2CpuB+SrmVCt4snSw==\",\n",
    "# ← 일반 인증키(Decoding)로 바꾸세요\n",
    "    \"pageNo\": \"1\",  # 페이지 번호\n",
    "    \"numOfRows\": \"10\",  # 한 페이지 결과 수 \n",
    "    \"dataType\": \"JSON\",    # 요청 자료 형식\n",
    "    \"base_date\": \"20250716\",  # 발표 날짜(예: 오늘 날짜)\n",
    "    \"base_time\": \"1400\",      # 발표 시간(정시 단위, 예: 0600(06시), 매시각 10분 이후 호출)\n",
    "\n",
    "    \"nx\": \"60\",               # 예보 지점의 x좌표\n",
    "    \"ny\": \"127\"               # 예보 지점의 y좌표\n",
    "}\n",
    "# API 호출 \n",
    "response = requests.get(url, params=params)\n",
    "# 응답 확인\n",
    "print(response.status_code)"
   ]
  },
  {
   "cell_type": "code",
   "execution_count": 5,
   "metadata": {},
   "outputs": [
    {
     "name": "stdout",
     "output_type": "stream",
     "text": [
      "{\"response\":{\"header\":{\"resultCode\":\"00\",\"resultMsg\":\"NORMAL_SERVICE\"},\"body\":{\"dataType\":\"JSON\",\"items\":{\"item\":[{\"baseDate\":\"20250716\",\"baseTime\":\"1400\",\"category\":\"PTY\",\"nx\":60,\"ny\":127,\"obsrValue\":\"1\"},{\"baseDate\":\"20250716\",\"baseTime\":\"1400\",\"category\":\"REH\",\"nx\":60,\"ny\":127,\"obsrValue\":\"88\"},{\"baseDate\":\"20250716\",\"baseTime\":\"1400\",\"category\":\"RN1\",\"nx\":60,\"ny\":127,\"obsrValue\":\"0.8\"},{\"baseDate\":\"20250716\",\"baseTime\":\"1400\",\"category\":\"T1H\",\"nx\":60,\"ny\":127,\"obsrValue\":\"23\"},{\"baseDate\":\"2\n"
     ]
    }
   ],
   "source": [
    "print(response.text[:500])"
   ]
  },
  {
   "cell_type": "code",
   "execution_count": 7,
   "metadata": {},
   "outputs": [
    {
     "name": "stdout",
     "output_type": "stream",
     "text": [
      "{'baseDate': '20250716', 'baseTime': '1400', 'category': 'PTY', 'nx': 60, 'ny': 127, 'obsrValue': '1'}\n",
      "{'baseDate': '20250716', 'baseTime': '1400', 'category': 'REH', 'nx': 60, 'ny': 127, 'obsrValue': '88'}\n",
      "{'baseDate': '20250716', 'baseTime': '1400', 'category': 'RN1', 'nx': 60, 'ny': 127, 'obsrValue': '0.8'}\n",
      "{'baseDate': '20250716', 'baseTime': '1400', 'category': 'T1H', 'nx': 60, 'ny': 127, 'obsrValue': '23'}\n",
      "{'baseDate': '20250716', 'baseTime': '1400', 'category': 'UUU', 'nx': 60, 'ny': 127, 'obsrValue': '-2.9'}\n"
     ]
    }
   ],
   "source": [
    "# JSON 파싱\n",
    "data = response.json()\n",
    "# 예보 데이터 항목 접근\n",
    "items = data['response']['body']['items']['item']\n",
    "# 상위 5개 항목만 출력\n",
    "for item in items[:5]:\n",
    "    print(item)"
   ]
  },
  {
   "cell_type": "code",
   "execution_count": 8,
   "metadata": {},
   "outputs": [
    {
     "name": "stdout",
     "output_type": "stream",
     "text": [
      "<class 'dict'>\n",
      "<class 'list'>\n"
     ]
    }
   ],
   "source": [
    "print(type(data))  # 중첩된 딕셔너리 구조 \n",
    "print(type(items))"
   ]
  },
  {
   "cell_type": "code",
   "execution_count": 9,
   "metadata": {},
   "outputs": [
    {
     "name": "stdout",
     "output_type": "stream",
     "text": [
      "{\n",
      "    \"baseDate\": \"20250716\",\n",
      "    \"baseTime\": \"1400\",\n",
      "    \"category\": \"REH\",\n",
      "    \"nx\": 60,\n",
      "    \"ny\": 127,\n",
      "    \"obsrValue\": \"88\"\n",
      "}\n"
     ]
    }
   ],
   "source": [
    "import json\n",
    "print(json.dumps(items[1], indent=4, ensure_ascii=False))"
   ]
  },
  {
   "cell_type": "markdown",
   "metadata": {},
   "source": [
    "- obsrValue: RN1, T1H, UUU, VVV, WSD를 실수 또는 정수로 제공\n"
   ]
  },
  {
   "cell_type": "code",
   "execution_count": 10,
   "metadata": {},
   "outputs": [
    {
     "name": "stdout",
     "output_type": "stream",
     "text": [
      "불러온 데이터 수: 8개\n"
     ]
    }
   ],
   "source": [
    "print(f\"불러온 데이터 수: {len(items)}개\")"
   ]
  },
  {
   "cell_type": "markdown",
   "metadata": {},
   "source": [
    "### 데이터 전처리"
   ]
  },
  {
   "cell_type": "code",
   "execution_count": 12,
   "metadata": {},
   "outputs": [
    {
     "name": "stderr",
     "output_type": "stream",
     "text": [
      "\n",
      "[notice] A new release of pip available: 22.3.1 -> 25.1.1\n",
      "[notice] To update, run: python.exe -m pip install --upgrade pip\n"
     ]
    },
    {
     "data": {
      "text/html": [
       "<div>\n",
       "<style scoped>\n",
       "    .dataframe tbody tr th:only-of-type {\n",
       "        vertical-align: middle;\n",
       "    }\n",
       "\n",
       "    .dataframe tbody tr th {\n",
       "        vertical-align: top;\n",
       "    }\n",
       "\n",
       "    .dataframe thead th {\n",
       "        text-align: right;\n",
       "    }\n",
       "</style>\n",
       "<table border=\"1\" class=\"dataframe\">\n",
       "  <thead>\n",
       "    <tr style=\"text-align: right;\">\n",
       "      <th></th>\n",
       "      <th>baseDate</th>\n",
       "      <th>baseTime</th>\n",
       "      <th>category</th>\n",
       "      <th>nx</th>\n",
       "      <th>ny</th>\n",
       "      <th>obsrValue</th>\n",
       "    </tr>\n",
       "  </thead>\n",
       "  <tbody>\n",
       "    <tr>\n",
       "      <th>0</th>\n",
       "      <td>20250716</td>\n",
       "      <td>1400</td>\n",
       "      <td>PTY</td>\n",
       "      <td>60</td>\n",
       "      <td>127</td>\n",
       "      <td>1</td>\n",
       "    </tr>\n",
       "    <tr>\n",
       "      <th>1</th>\n",
       "      <td>20250716</td>\n",
       "      <td>1400</td>\n",
       "      <td>REH</td>\n",
       "      <td>60</td>\n",
       "      <td>127</td>\n",
       "      <td>88</td>\n",
       "    </tr>\n",
       "    <tr>\n",
       "      <th>2</th>\n",
       "      <td>20250716</td>\n",
       "      <td>1400</td>\n",
       "      <td>RN1</td>\n",
       "      <td>60</td>\n",
       "      <td>127</td>\n",
       "      <td>0.8</td>\n",
       "    </tr>\n",
       "    <tr>\n",
       "      <th>3</th>\n",
       "      <td>20250716</td>\n",
       "      <td>1400</td>\n",
       "      <td>T1H</td>\n",
       "      <td>60</td>\n",
       "      <td>127</td>\n",
       "      <td>23</td>\n",
       "    </tr>\n",
       "    <tr>\n",
       "      <th>4</th>\n",
       "      <td>20250716</td>\n",
       "      <td>1400</td>\n",
       "      <td>UUU</td>\n",
       "      <td>60</td>\n",
       "      <td>127</td>\n",
       "      <td>-2.9</td>\n",
       "    </tr>\n",
       "  </tbody>\n",
       "</table>\n",
       "</div>"
      ],
      "text/plain": [
       "   baseDate baseTime category  nx   ny obsrValue\n",
       "0  20250716     1400      PTY  60  127         1\n",
       "1  20250716     1400      REH  60  127        88\n",
       "2  20250716     1400      RN1  60  127       0.8\n",
       "3  20250716     1400      T1H  60  127        23\n",
       "4  20250716     1400      UUU  60  127      -2.9"
      ]
     },
     "execution_count": 12,
     "metadata": {},
     "output_type": "execute_result"
    }
   ],
   "source": [
    "!pip install -q pandas\n",
    "import pandas as pd\n",
    "# 데이터프레임으로 변환\n",
    "df = pd.DataFrame(items)\n",
    "df.head()"
   ]
  },
  {
   "cell_type": "code",
   "execution_count": 13,
   "metadata": {},
   "outputs": [
    {
     "data": {
      "text/html": [
       "<div>\n",
       "<style scoped>\n",
       "    .dataframe tbody tr th:only-of-type {\n",
       "        vertical-align: middle;\n",
       "    }\n",
       "\n",
       "    .dataframe tbody tr th {\n",
       "        vertical-align: top;\n",
       "    }\n",
       "\n",
       "    .dataframe thead th {\n",
       "        text-align: right;\n",
       "    }\n",
       "</style>\n",
       "<table border=\"1\" class=\"dataframe\">\n",
       "  <thead>\n",
       "    <tr style=\"text-align: right;\">\n",
       "      <th></th>\n",
       "      <th>baseDate</th>\n",
       "      <th>baseTime</th>\n",
       "      <th>category</th>\n",
       "      <th>nx</th>\n",
       "      <th>ny</th>\n",
       "      <th>obsrValue</th>\n",
       "    </tr>\n",
       "  </thead>\n",
       "  <tbody>\n",
       "    <tr>\n",
       "      <th>0</th>\n",
       "      <td>20250716</td>\n",
       "      <td>1400</td>\n",
       "      <td>PTY</td>\n",
       "      <td>60</td>\n",
       "      <td>127</td>\n",
       "      <td>1</td>\n",
       "    </tr>\n",
       "    <tr>\n",
       "      <th>1</th>\n",
       "      <td>20250716</td>\n",
       "      <td>1400</td>\n",
       "      <td>REH</td>\n",
       "      <td>60</td>\n",
       "      <td>127</td>\n",
       "      <td>88</td>\n",
       "    </tr>\n",
       "    <tr>\n",
       "      <th>2</th>\n",
       "      <td>20250716</td>\n",
       "      <td>1400</td>\n",
       "      <td>RN1</td>\n",
       "      <td>60</td>\n",
       "      <td>127</td>\n",
       "      <td>0.8</td>\n",
       "    </tr>\n",
       "    <tr>\n",
       "      <th>3</th>\n",
       "      <td>20250716</td>\n",
       "      <td>1400</td>\n",
       "      <td>T1H</td>\n",
       "      <td>60</td>\n",
       "      <td>127</td>\n",
       "      <td>23</td>\n",
       "    </tr>\n",
       "    <tr>\n",
       "      <th>4</th>\n",
       "      <td>20250716</td>\n",
       "      <td>1400</td>\n",
       "      <td>UUU</td>\n",
       "      <td>60</td>\n",
       "      <td>127</td>\n",
       "      <td>-2.9</td>\n",
       "    </tr>\n",
       "  </tbody>\n",
       "</table>\n",
       "</div>"
      ],
      "text/plain": [
       "   baseDate baseTime category  nx   ny obsrValue\n",
       "0  20250716     1400      PTY  60  127         1\n",
       "1  20250716     1400      REH  60  127        88\n",
       "2  20250716     1400      RN1  60  127       0.8\n",
       "3  20250716     1400      T1H  60  127        23\n",
       "4  20250716     1400      UUU  60  127      -2.9"
      ]
     },
     "execution_count": 13,
     "metadata": {},
     "output_type": "execute_result"
    }
   ],
   "source": [
    "import pandas as pd\n",
    "# 데이터프레임으로 변환\n",
    "df = pd.DataFrame(items)\n",
    "df.head()\n"
   ]
  },
  {
   "cell_type": "code",
   "execution_count": 14,
   "metadata": {},
   "outputs": [
    {
     "name": "stdout",
     "output_type": "stream",
     "text": [
      "<class 'pandas.core.frame.DataFrame'>\n",
      "RangeIndex: 8 entries, 0 to 7\n",
      "Data columns (total 6 columns):\n",
      " #   Column     Non-Null Count  Dtype \n",
      "---  ------     --------------  ----- \n",
      " 0   baseDate   8 non-null      object\n",
      " 1   baseTime   8 non-null      object\n",
      " 2   category   8 non-null      object\n",
      " 3   nx         8 non-null      int64 \n",
      " 4   ny         8 non-null      int64 \n",
      " 5   obsrValue  8 non-null      object\n",
      "dtypes: int64(2), object(4)\n",
      "memory usage: 512.0+ bytes\n"
     ]
    }
   ],
   "source": [
    "df.info()"
   ]
  },
  {
   "cell_type": "code",
   "execution_count": 15,
   "metadata": {},
   "outputs": [
    {
     "data": {
      "text/plain": [
       "(8, 6)"
      ]
     },
     "execution_count": 15,
     "metadata": {},
     "output_type": "execute_result"
    }
   ],
   "source": [
    "# 크기 확인\n",
    "df.shape"
   ]
  },
  {
   "cell_type": "code",
   "execution_count": 16,
   "metadata": {},
   "outputs": [],
   "source": [
    "# 날짜와 시간 컬럼을 합쳐 datetime 컬럼 만들기\n",
    "df['datetime'] = pd.to_datetime(df['baseDate'] + df['baseTime'], format='%Y%m%d%H%M')"
   ]
  },
  {
   "cell_type": "code",
   "execution_count": 17,
   "metadata": {},
   "outputs": [
    {
     "data": {
      "text/html": [
       "<div>\n",
       "<style scoped>\n",
       "    .dataframe tbody tr th:only-of-type {\n",
       "        vertical-align: middle;\n",
       "    }\n",
       "\n",
       "    .dataframe tbody tr th {\n",
       "        vertical-align: top;\n",
       "    }\n",
       "\n",
       "    .dataframe thead th {\n",
       "        text-align: right;\n",
       "    }\n",
       "</style>\n",
       "<table border=\"1\" class=\"dataframe\">\n",
       "  <thead>\n",
       "    <tr style=\"text-align: right;\">\n",
       "      <th></th>\n",
       "      <th>baseDate</th>\n",
       "      <th>baseTime</th>\n",
       "      <th>category</th>\n",
       "      <th>nx</th>\n",
       "      <th>ny</th>\n",
       "      <th>obsrValue</th>\n",
       "      <th>datetime</th>\n",
       "    </tr>\n",
       "  </thead>\n",
       "  <tbody>\n",
       "    <tr>\n",
       "      <th>0</th>\n",
       "      <td>20250716</td>\n",
       "      <td>1400</td>\n",
       "      <td>PTY</td>\n",
       "      <td>60</td>\n",
       "      <td>127</td>\n",
       "      <td>1</td>\n",
       "      <td>2025-07-16 14:00:00</td>\n",
       "    </tr>\n",
       "    <tr>\n",
       "      <th>1</th>\n",
       "      <td>20250716</td>\n",
       "      <td>1400</td>\n",
       "      <td>REH</td>\n",
       "      <td>60</td>\n",
       "      <td>127</td>\n",
       "      <td>88</td>\n",
       "      <td>2025-07-16 14:00:00</td>\n",
       "    </tr>\n",
       "    <tr>\n",
       "      <th>2</th>\n",
       "      <td>20250716</td>\n",
       "      <td>1400</td>\n",
       "      <td>RN1</td>\n",
       "      <td>60</td>\n",
       "      <td>127</td>\n",
       "      <td>0.8</td>\n",
       "      <td>2025-07-16 14:00:00</td>\n",
       "    </tr>\n",
       "    <tr>\n",
       "      <th>3</th>\n",
       "      <td>20250716</td>\n",
       "      <td>1400</td>\n",
       "      <td>T1H</td>\n",
       "      <td>60</td>\n",
       "      <td>127</td>\n",
       "      <td>23</td>\n",
       "      <td>2025-07-16 14:00:00</td>\n",
       "    </tr>\n",
       "    <tr>\n",
       "      <th>4</th>\n",
       "      <td>20250716</td>\n",
       "      <td>1400</td>\n",
       "      <td>UUU</td>\n",
       "      <td>60</td>\n",
       "      <td>127</td>\n",
       "      <td>-2.9</td>\n",
       "      <td>2025-07-16 14:00:00</td>\n",
       "    </tr>\n",
       "  </tbody>\n",
       "</table>\n",
       "</div>"
      ],
      "text/plain": [
       "   baseDate baseTime category  nx   ny obsrValue            datetime\n",
       "0  20250716     1400      PTY  60  127         1 2025-07-16 14:00:00\n",
       "1  20250716     1400      REH  60  127        88 2025-07-16 14:00:00\n",
       "2  20250716     1400      RN1  60  127       0.8 2025-07-16 14:00:00\n",
       "3  20250716     1400      T1H  60  127        23 2025-07-16 14:00:00\n",
       "4  20250716     1400      UUU  60  127      -2.9 2025-07-16 14:00:00"
      ]
     },
     "execution_count": 17,
     "metadata": {},
     "output_type": "execute_result"
    }
   ],
   "source": [
    "df.head()"
   ]
  },
  {
   "cell_type": "code",
   "execution_count": 18,
   "metadata": {},
   "outputs": [
    {
     "name": "stdout",
     "output_type": "stream",
     "text": [
      "['PTY' 'REH' 'RN1' 'T1H' 'UUU' 'VEC' 'VVV' 'WSD']\n"
     ]
    }
   ],
   "source": [
    "# categry 고유값 확인\n",
    "unique_categories = df['category'].unique()\n",
    "print(unique_categories)"
   ]
  },
  {
   "cell_type": "code",
   "execution_count": 19,
   "metadata": {},
   "outputs": [
    {
     "data": {
      "text/html": [
       "<div>\n",
       "<style scoped>\n",
       "    .dataframe tbody tr th:only-of-type {\n",
       "        vertical-align: middle;\n",
       "    }\n",
       "\n",
       "    .dataframe tbody tr th {\n",
       "        vertical-align: top;\n",
       "    }\n",
       "\n",
       "    .dataframe thead th {\n",
       "        text-align: right;\n",
       "    }\n",
       "</style>\n",
       "<table border=\"1\" class=\"dataframe\">\n",
       "  <thead>\n",
       "    <tr style=\"text-align: right;\">\n",
       "      <th></th>\n",
       "      <th>baseDate</th>\n",
       "      <th>baseTime</th>\n",
       "      <th>category</th>\n",
       "      <th>nx</th>\n",
       "      <th>ny</th>\n",
       "      <th>obsrValue</th>\n",
       "      <th>datetime</th>\n",
       "      <th>category_name</th>\n",
       "    </tr>\n",
       "  </thead>\n",
       "  <tbody>\n",
       "    <tr>\n",
       "      <th>0</th>\n",
       "      <td>20250716</td>\n",
       "      <td>1400</td>\n",
       "      <td>PTY</td>\n",
       "      <td>60</td>\n",
       "      <td>127</td>\n",
       "      <td>1</td>\n",
       "      <td>2025-07-16 14:00:00</td>\n",
       "      <td>강수형태</td>\n",
       "    </tr>\n",
       "    <tr>\n",
       "      <th>1</th>\n",
       "      <td>20250716</td>\n",
       "      <td>1400</td>\n",
       "      <td>REH</td>\n",
       "      <td>60</td>\n",
       "      <td>127</td>\n",
       "      <td>88</td>\n",
       "      <td>2025-07-16 14:00:00</td>\n",
       "      <td>습도(%)</td>\n",
       "    </tr>\n",
       "    <tr>\n",
       "      <th>2</th>\n",
       "      <td>20250716</td>\n",
       "      <td>1400</td>\n",
       "      <td>RN1</td>\n",
       "      <td>60</td>\n",
       "      <td>127</td>\n",
       "      <td>0.8</td>\n",
       "      <td>2025-07-16 14:00:00</td>\n",
       "      <td>1시간 강수량(mm)</td>\n",
       "    </tr>\n",
       "    <tr>\n",
       "      <th>3</th>\n",
       "      <td>20250716</td>\n",
       "      <td>1400</td>\n",
       "      <td>T1H</td>\n",
       "      <td>60</td>\n",
       "      <td>127</td>\n",
       "      <td>23</td>\n",
       "      <td>2025-07-16 14:00:00</td>\n",
       "      <td>기온(℃)</td>\n",
       "    </tr>\n",
       "    <tr>\n",
       "      <th>4</th>\n",
       "      <td>20250716</td>\n",
       "      <td>1400</td>\n",
       "      <td>UUU</td>\n",
       "      <td>60</td>\n",
       "      <td>127</td>\n",
       "      <td>-2.9</td>\n",
       "      <td>2025-07-16 14:00:00</td>\n",
       "      <td>동서바람성분(m/s)</td>\n",
       "    </tr>\n",
       "  </tbody>\n",
       "</table>\n",
       "</div>"
      ],
      "text/plain": [
       "   baseDate baseTime category  nx   ny obsrValue            datetime  \\\n",
       "0  20250716     1400      PTY  60  127         1 2025-07-16 14:00:00   \n",
       "1  20250716     1400      REH  60  127        88 2025-07-16 14:00:00   \n",
       "2  20250716     1400      RN1  60  127       0.8 2025-07-16 14:00:00   \n",
       "3  20250716     1400      T1H  60  127        23 2025-07-16 14:00:00   \n",
       "4  20250716     1400      UUU  60  127      -2.9 2025-07-16 14:00:00   \n",
       "\n",
       "  category_name  \n",
       "0          강수형태  \n",
       "1         습도(%)  \n",
       "2   1시간 강수량(mm)  \n",
       "3         기온(℃)  \n",
       "4   동서바람성분(m/s)  "
      ]
     },
     "execution_count": 19,
     "metadata": {},
     "output_type": "execute_result"
    }
   ],
   "source": [
    "# category 해석\n",
    "category_map = {\n",
    "    \"PTY\": \"강수형태\",\n",
    "    \"REH\": \"습도(%)\",\n",
    "    \"RN1\": \"1시간 강수량(mm)\",\n",
    "    \"T1H\": \"기온(℃)\",\n",
    "    \"UUU\": \"동서바람성분(m/s)\",\n",
    "    \"VEC\":\"풍향(deg)\", \n",
    "    \"VVV\":\"남북바람성분(m/s)\",\n",
    "    \"WSD\": \"풍속(m/s)\"\n",
    "}\n",
    "# category 매핑\n",
    "df['category_name'] = df['category'].map(category_map) # key값으로 Series를 매핑\n",
    "df.head()\n"
   ]
  },
  {
   "cell_type": "code",
   "execution_count": 20,
   "metadata": {},
   "outputs": [
    {
     "data": {
      "text/html": [
       "<div>\n",
       "<style scoped>\n",
       "    .dataframe tbody tr th:only-of-type {\n",
       "        vertical-align: middle;\n",
       "    }\n",
       "\n",
       "    .dataframe tbody tr th {\n",
       "        vertical-align: top;\n",
       "    }\n",
       "\n",
       "    .dataframe thead th {\n",
       "        text-align: right;\n",
       "    }\n",
       "</style>\n",
       "<table border=\"1\" class=\"dataframe\">\n",
       "  <thead>\n",
       "    <tr style=\"text-align: right;\">\n",
       "      <th></th>\n",
       "      <th>datetime</th>\n",
       "      <th>category</th>\n",
       "      <th>category_name</th>\n",
       "      <th>obsrValue</th>\n",
       "      <th>nx</th>\n",
       "      <th>ny</th>\n",
       "    </tr>\n",
       "  </thead>\n",
       "  <tbody>\n",
       "    <tr>\n",
       "      <th>0</th>\n",
       "      <td>2025-07-16 14:00:00</td>\n",
       "      <td>PTY</td>\n",
       "      <td>강수형태</td>\n",
       "      <td>1</td>\n",
       "      <td>60</td>\n",
       "      <td>127</td>\n",
       "    </tr>\n",
       "    <tr>\n",
       "      <th>1</th>\n",
       "      <td>2025-07-16 14:00:00</td>\n",
       "      <td>REH</td>\n",
       "      <td>습도(%)</td>\n",
       "      <td>88</td>\n",
       "      <td>60</td>\n",
       "      <td>127</td>\n",
       "    </tr>\n",
       "    <tr>\n",
       "      <th>2</th>\n",
       "      <td>2025-07-16 14:00:00</td>\n",
       "      <td>RN1</td>\n",
       "      <td>1시간 강수량(mm)</td>\n",
       "      <td>0.8</td>\n",
       "      <td>60</td>\n",
       "      <td>127</td>\n",
       "    </tr>\n",
       "    <tr>\n",
       "      <th>3</th>\n",
       "      <td>2025-07-16 14:00:00</td>\n",
       "      <td>T1H</td>\n",
       "      <td>기온(℃)</td>\n",
       "      <td>23</td>\n",
       "      <td>60</td>\n",
       "      <td>127</td>\n",
       "    </tr>\n",
       "    <tr>\n",
       "      <th>4</th>\n",
       "      <td>2025-07-16 14:00:00</td>\n",
       "      <td>UUU</td>\n",
       "      <td>동서바람성분(m/s)</td>\n",
       "      <td>-2.9</td>\n",
       "      <td>60</td>\n",
       "      <td>127</td>\n",
       "    </tr>\n",
       "  </tbody>\n",
       "</table>\n",
       "</div>"
      ],
      "text/plain": [
       "             datetime category category_name obsrValue  nx   ny\n",
       "0 2025-07-16 14:00:00      PTY          강수형태         1  60  127\n",
       "1 2025-07-16 14:00:00      REH         습도(%)        88  60  127\n",
       "2 2025-07-16 14:00:00      RN1   1시간 강수량(mm)       0.8  60  127\n",
       "3 2025-07-16 14:00:00      T1H         기온(℃)        23  60  127\n",
       "4 2025-07-16 14:00:00      UUU   동서바람성분(m/s)      -2.9  60  127"
      ]
     },
     "execution_count": 20,
     "metadata": {},
     "output_type": "execute_result"
    }
   ],
   "source": [
    "# 불필요한 컬럼 제거 및 정렬\n",
    "df = df[['datetime', 'category', 'category_name', 'obsrValue', 'nx', 'ny']]\n",
    "df = df.sort_values(by='datetime').reset_index(drop=True)\n",
    "df.head()\n"
   ]
  },
  {
   "cell_type": "code",
   "execution_count": 21,
   "metadata": {},
   "outputs": [],
   "source": [
    "# 숫자로 변환\n",
    "df['obsrValue'] = pd.to_numeric(df['obsrValue'], errors='coerce') # coerce: 숫자로 변환이 불가능한 값은 NaN으로 바꿈"
   ]
  },
  {
   "cell_type": "code",
   "execution_count": 23,
   "metadata": {},
   "outputs": [
    {
     "name": "stdout",
     "output_type": "stream",
     "text": [
      "<class 'pandas.core.frame.DataFrame'>\n",
      "RangeIndex: 8 entries, 0 to 7\n",
      "Data columns (total 6 columns):\n",
      " #   Column         Non-Null Count  Dtype         \n",
      "---  ------         --------------  -----         \n",
      " 0   datetime       8 non-null      datetime64[ns]\n",
      " 1   category       8 non-null      object        \n",
      " 2   category_name  8 non-null      object        \n",
      " 3   obsrValue      8 non-null      float64       \n",
      " 4   nx             8 non-null      int64         \n",
      " 5   ny             8 non-null      int64         \n",
      "dtypes: datetime64[ns](1), float64(1), int64(2), object(2)\n",
      "memory usage: 512.0+ bytes\n"
     ]
    }
   ],
   "source": [
    "df.info()"
   ]
  },
  {
   "cell_type": "code",
   "execution_count": 24,
   "metadata": {},
   "outputs": [
    {
     "name": "stdout",
     "output_type": "stream",
     "text": [
      "datetime         0\n",
      "category         0\n",
      "category_name    0\n",
      "obsrValue        0\n",
      "nx               0\n",
      "ny               0\n",
      "dtype: int64\n"
     ]
    }
   ],
   "source": [
    "# 결측값 개수 확인 \n",
    "print(df.isnull().sum())"
   ]
  },
  {
   "cell_type": "code",
   "execution_count": 25,
   "metadata": {},
   "outputs": [
    {
     "data": {
      "text/plain": [
       "0    False\n",
       "1    False\n",
       "2    False\n",
       "3    False\n",
       "4    False\n",
       "5    False\n",
       "6    False\n",
       "7    False\n",
       "dtype: bool"
      ]
     },
     "execution_count": 25,
     "metadata": {},
     "output_type": "execute_result"
    }
   ],
   "source": [
    "# 중복값 확인\n",
    "df.duplicated(subset=['datetime', 'category'])\n"
   ]
  },
  {
   "cell_type": "code",
   "execution_count": 26,
   "metadata": {},
   "outputs": [
    {
     "data": {
      "text/html": [
       "<div>\n",
       "<style scoped>\n",
       "    .dataframe tbody tr th:only-of-type {\n",
       "        vertical-align: middle;\n",
       "    }\n",
       "\n",
       "    .dataframe tbody tr th {\n",
       "        vertical-align: top;\n",
       "    }\n",
       "\n",
       "    .dataframe thead th {\n",
       "        text-align: right;\n",
       "    }\n",
       "</style>\n",
       "<table border=\"1\" class=\"dataframe\">\n",
       "  <thead>\n",
       "    <tr style=\"text-align: right;\">\n",
       "      <th></th>\n",
       "      <th>datetime</th>\n",
       "      <th>obsrValue</th>\n",
       "      <th>nx</th>\n",
       "      <th>ny</th>\n",
       "    </tr>\n",
       "  </thead>\n",
       "  <tbody>\n",
       "    <tr>\n",
       "      <th>count</th>\n",
       "      <td>8</td>\n",
       "      <td>8.000000</td>\n",
       "      <td>8.0</td>\n",
       "      <td>8.0</td>\n",
       "    </tr>\n",
       "    <tr>\n",
       "      <th>mean</th>\n",
       "      <td>2025-07-16 14:00:00</td>\n",
       "      <td>27.087500</td>\n",
       "      <td>60.0</td>\n",
       "      <td>127.0</td>\n",
       "    </tr>\n",
       "    <tr>\n",
       "      <th>min</th>\n",
       "      <td>2025-07-16 14:00:00</td>\n",
       "      <td>-2.900000</td>\n",
       "      <td>60.0</td>\n",
       "      <td>127.0</td>\n",
       "    </tr>\n",
       "    <tr>\n",
       "      <th>25%</th>\n",
       "      <td>2025-07-16 14:00:00</td>\n",
       "      <td>0.775000</td>\n",
       "      <td>60.0</td>\n",
       "      <td>127.0</td>\n",
       "    </tr>\n",
       "    <tr>\n",
       "      <th>50%</th>\n",
       "      <td>2025-07-16 14:00:00</td>\n",
       "      <td>2.050000</td>\n",
       "      <td>60.0</td>\n",
       "      <td>127.0</td>\n",
       "    </tr>\n",
       "    <tr>\n",
       "      <th>75%</th>\n",
       "      <td>2025-07-16 14:00:00</td>\n",
       "      <td>39.250000</td>\n",
       "      <td>60.0</td>\n",
       "      <td>127.0</td>\n",
       "    </tr>\n",
       "    <tr>\n",
       "      <th>max</th>\n",
       "      <td>2025-07-16 14:00:00</td>\n",
       "      <td>103.000000</td>\n",
       "      <td>60.0</td>\n",
       "      <td>127.0</td>\n",
       "    </tr>\n",
       "    <tr>\n",
       "      <th>std</th>\n",
       "      <td>NaN</td>\n",
       "      <td>43.148065</td>\n",
       "      <td>0.0</td>\n",
       "      <td>0.0</td>\n",
       "    </tr>\n",
       "  </tbody>\n",
       "</table>\n",
       "</div>"
      ],
      "text/plain": [
       "                  datetime   obsrValue    nx     ny\n",
       "count                    8    8.000000   8.0    8.0\n",
       "mean   2025-07-16 14:00:00   27.087500  60.0  127.0\n",
       "min    2025-07-16 14:00:00   -2.900000  60.0  127.0\n",
       "25%    2025-07-16 14:00:00    0.775000  60.0  127.0\n",
       "50%    2025-07-16 14:00:00    2.050000  60.0  127.0\n",
       "75%    2025-07-16 14:00:00   39.250000  60.0  127.0\n",
       "max    2025-07-16 14:00:00  103.000000  60.0  127.0\n",
       "std                    NaN   43.148065   0.0    0.0"
      ]
     },
     "execution_count": 26,
     "metadata": {},
     "output_type": "execute_result"
    }
   ],
   "source": [
    "# 통계 분포 확인\n",
    "df.describe()"
   ]
  },
  {
   "cell_type": "code",
   "execution_count": 28,
   "metadata": {},
   "outputs": [
    {
     "name": "stderr",
     "output_type": "stream",
     "text": [
      "\n",
      "[notice] A new release of pip available: 22.3.1 -> 25.1.1\n",
      "[notice] To update, run: python.exe -m pip install --upgrade pip\n"
     ]
    }
   ],
   "source": [
    "!pip install -q seaborn"
   ]
  },
  {
   "cell_type": "code",
   "execution_count": 29,
   "metadata": {},
   "outputs": [
    {
     "data": {
      "image/png": "[encoded data removed]",
      "text/plain": [
       "<Figure size 1000x500 with 1 Axes>"
      ]
     },
     "metadata": {},
     "output_type": "display_data"
    }
   ],
   "source": [
    "import seaborn as sns\n",
    "import matplotlib.pyplot as plt\n",
    "\n",
    "# 카테고리별 boxplot\n",
    "plt.figure(figsize=(10, 5))\n",
    "sns.boxplot(x='category', y='obsrValue', data=df)\n",
    "plt.title(\"obsrValue for category\")\n",
    "plt.show()"
   ]
  },
  {
   "cell_type": "markdown",
   "metadata": {},
   "source": [
    "VEC(풍향)은 보통 0-360 사이의 정수이므로 이상치가 아님\n",
    "- 0도 = 북쪽\n",
    "- 90도 = 동쪽\n",
    "- 180도 = 남쪽\n",
    "- 270도 = 서쪽"
   ]
  },
  {
   "cell_type": "markdown",
   "metadata": {},
   "source": [
    "### DB에 저장 \n",
    "SQLite에 저장 "
   ]
  },
  {
   "cell_type": "code",
   "execution_count": 30,
   "metadata": {},
   "outputs": [
    {
     "name": "stdout",
     "output_type": "stream",
     "text": [
      "SQLite DB 저장 완료\n"
     ]
    }
   ],
   "source": [
    "import sqlite3\n",
    "\n",
    "# DB 연결(없으면 새로 생성)\n",
    "conn = sqlite3.connect(\"weather_data.db\")\n",
    "\n",
    "# 테이블 이름 예시: observed_weather\n",
    "df.to_sql(\"observed_weather\", conn, if_exists=\"append\", index=False) # append: 기존 테이블에 이어 저장\n",
    "\n",
    "# 연결 종료\n",
    "conn.commit()\n",
    "conn.close()\n",
    "\n",
    "print(\"SQLite DB 저장 완료\")\n"
   ]
  },
  {
   "cell_type": "code",
   "execution_count": 32,
   "metadata": {},
   "outputs": [
    {
     "name": "stderr",
     "output_type": "stream",
     "text": [
      "\n",
      "[notice] A new release of pip available: 22.3.1 -> 25.1.1\n",
      "[notice] To update, run: python.exe -m pip install --upgrade pip\n"
     ]
    }
   ],
   "source": [
    "!pip install -q sqlalchemy"
   ]
  },
  {
   "cell_type": "code",
   "execution_count": 33,
   "metadata": {},
   "outputs": [
    {
     "name": "stdout",
     "output_type": "stream",
     "text": [
      "dtype 지정 후 SQLite에 observed_weather 테이블 저장 완료\n"
     ]
    }
   ],
   "source": [
    "# 데이터 타입 지정\n",
    "from sqlalchemy import create_engine, String, Float, Integer, DateTime\n",
    "\n",
    "# SQLAlchemy 엔진 생성 (to_sql의 dtype 인자 활용)\n",
    "engine = create_engine('sqlite:///weather_data.db', echo=False) # echo=False: 실행되는 SQL 쿼리를 콘솔에 출력 X\n",
    "\n",
    "# dtype 매핑\n",
    "dtype_map = {\n",
    "    \"datetime\": DateTime(),\n",
    "    \"category\": String(10),  # 코드\n",
    "    \"category_name\": String(50),  # 한글 \n",
    "    \"obsrValue\": Float(),\n",
    "    \"nx\": Integer(),     \n",
    "    \"ny\": Integer()\n",
    "}\n",
    "\n",
    "# 저장(dtype 지정): weather_data DB 내 테이블로 저장 \n",
    "df.to_sql(\"observed_weather\", con=engine, if_exists=\"append\", index=False, dtype=dtype_map)\n",
    "# con: DB와 연결을 의미하는 객체, Pandas가 DB와 소통할 수 있게 연결\n",
    "print(\"dtype 지정 후 SQLite에 observed_weather 테이블 저장 완료\")\n"
   ]
  },
  {
   "cell_type": "code",
   "execution_count": 35,
   "metadata": {},
   "outputs": [
    {
     "data": {
      "text/html": [
       "<div>\n",
       "<style scoped>\n",
       "    .dataframe tbody tr th:only-of-type {\n",
       "        vertical-align: middle;\n",
       "    }\n",
       "\n",
       "    .dataframe tbody tr th {\n",
       "        vertical-align: top;\n",
       "    }\n",
       "\n",
       "    .dataframe thead th {\n",
       "        text-align: right;\n",
       "    }\n",
       "</style>\n",
       "<table border=\"1\" class=\"dataframe\">\n",
       "  <thead>\n",
       "    <tr style=\"text-align: right;\">\n",
       "      <th></th>\n",
       "      <th>datetime</th>\n",
       "      <th>category</th>\n",
       "      <th>category_name</th>\n",
       "      <th>obsrValue</th>\n",
       "      <th>nx</th>\n",
       "      <th>ny</th>\n",
       "    </tr>\n",
       "  </thead>\n",
       "  <tbody>\n",
       "    <tr>\n",
       "      <th>0</th>\n",
       "      <td>2025-07-16 14:00:00</td>\n",
       "      <td>T1H</td>\n",
       "      <td>기온(℃)</td>\n",
       "      <td>23.0</td>\n",
       "      <td>60</td>\n",
       "      <td>127</td>\n",
       "    </tr>\n",
       "    <tr>\n",
       "      <th>1</th>\n",
       "      <td>2025-07-16 14:00:00.000000</td>\n",
       "      <td>T1H</td>\n",
       "      <td>기온(℃)</td>\n",
       "      <td>23.0</td>\n",
       "      <td>60</td>\n",
       "      <td>127</td>\n",
       "    </tr>\n",
       "  </tbody>\n",
       "</table>\n",
       "</div>"
      ],
      "text/plain": [
       "                     datetime category category_name  obsrValue  nx   ny\n",
       "0         2025-07-16 14:00:00      T1H         기온(℃)       23.0  60  127\n",
       "1  2025-07-16 14:00:00.000000      T1H         기온(℃)       23.0  60  127"
      ]
     },
     "execution_count": 35,
     "metadata": {},
     "output_type": "execute_result"
    }
   ],
   "source": [
    "# 조회\n",
    "query = \"SELECT * FROM observed_weather WHERE category = 'T1H'\"\n",
    "result_df = pd.read_sql(query, con=engine)\n",
    "result_df "
   ]
  },
  {
   "cell_type": "code",
   "execution_count": null,
   "metadata": {},
   "outputs": [],
   "source": []
  }
 ],
 "metadata": {
  "kernelspec": {
   "display_name": "Python 3",
   "language": "python",
   "name": "python3"
  },
  "language_info": {
   "codemirror_mode": {
    "name": "ipython",
    "version": 3
   },
   "file_extension": ".py",
   "mimetype": "text/x-python",
   "name": "python",
   "nbconvert_exporter": "python",
   "pygments_lexer": "ipython3",
   "version": "3.10.10"
  }
 },
 "nbformat": 4,
 "nbformat_minor": 2
}
