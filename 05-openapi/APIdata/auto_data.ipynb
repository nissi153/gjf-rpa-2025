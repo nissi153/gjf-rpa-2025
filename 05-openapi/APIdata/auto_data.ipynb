{
 "cells": [
  {
   "cell_type": "code",
   "execution_count": null,
   "metadata": {},
   "outputs": [
    {
     "name": "stdout",
     "output_type": "stream",
     "text": [
      "컬럼 타입 확인:\n",
      "datetime          object\n",
      "category          object\n",
      "category_name     object\n",
      "obsrValue        float64\n",
      "nx                 int64\n",
      "ny                 int64\n",
      "dtype: object\n",
      "\n",
      "데이터 미리보기:\n",
      "              datetime category category_name  obsrValue  nx   ny\n",
      "0  2025-07-15 21:00:00      PTY          강수형태        0.0  60  127\n",
      "1  2025-07-15 21:00:00      REH         습도(%)       75.0  60  127\n",
      "2  2025-07-15 21:00:00      RN1   1시간 강수량(mm)        0.0  60  127\n",
      "3  2025-07-15 21:00:00      T1H         기온(℃)       24.2  60  127\n",
      "4  2025-07-15 21:00:00      UUU   동서바람성분(m/s)        0.8  60  127\n"
     ]
    }
   ],
   "source": [
    "import sqlite3\n",
    "import pandas as pd\n",
    "\n",
    "# DB 연결\n",
    "conn = sqlite3.connect(\"weather_auto.db\")\n",
    "\n",
    "# 데이터 조회 (예: 최근 10건)\n",
    "query = \"\"\"\n",
    "SELECT * FROM ultra_short_forecast\n",
    "ORDER BY datetime DESC\n",
    "LIMIT 5\n",
    "\"\"\"\n",
    "\n",
    "df = pd.read_sql_query(query, conn)\n",
    "\n",
    "conn.close()\n",
    "\n",
    "# 컬럼별 데이터 타입 확인\n",
    "print(\"컬럼 타입 확인:\")\n",
    "print(df.dtypes)\n",
    "\n",
    "# 데이터 미리보기 (최신 5건)\n",
    "print(\"\\n데이터 미리보기:\")\n",
    "print(df.head())"
   ]
  },
  {
   "cell_type": "code",
   "execution_count": null,
   "metadata": {},
   "outputs": [],
   "source": []
  }
 ],
 "metadata": {
  "kernelspec": {
   "display_name": "Python 3",
   "language": "python",
   "name": "python3"
  },
  "language_info": {
   "codemirror_mode": {
    "name": "ipython",
    "version": 3
   },
   "file_extension": ".py",
   "mimetype": "text/x-python",
   "name": "python",
   "nbconvert_exporter": "python",
   "pygments_lexer": "ipython3",
   "version": "3.13.5"
  }
 },
 "nbformat": 4,
 "nbformat_minor": 2
}
